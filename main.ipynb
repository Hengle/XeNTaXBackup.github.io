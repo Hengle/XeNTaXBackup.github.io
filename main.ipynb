{
 "cells": [
  {
   "cell_type": "code",
   "execution_count": 11,
   "metadata": {},
   "outputs": [],
   "source": [
    "import os\n",
    "import re\n",
    "import urllib.parse"
   ]
  },
  {
   "cell_type": "code",
   "execution_count": 10,
   "metadata": {},
   "outputs": [],
   "source": [
    "f = open(\"PostIndex.md\", \"a+\",  encoding=\"utf-8\")\n",
    "\n",
    "for i in os.listdir(\"markdown\"):\n",
    "    match = re.search(r'_(\\d+)\\.md$', i)\n",
    "    if match is not None:\n",
    "        sequence_number = match.group(1)\n",
    "    file_name = i[:i.rfind('_')]\n",
    "    \n",
    "    f.write(f\"[ID: {sequence_number} Title: {file_name}](https://XeNTaXBackup.github.io/markdown/{urllib.parse.quote(i[:-3])})\\n\\n\")\n",
    "\n",
    "f.close()"
   ]
  },
  {
   "cell_type": "code",
   "execution_count": 8,
   "metadata": {},
   "outputs": [
    {
     "data": {
      "text/plain": [
       "'（Township）  .DDS  File the study_20112'"
      ]
     },
     "execution_count": 8,
     "metadata": {},
     "output_type": "execute_result"
    }
   ],
   "source": []
  }
 ],
 "metadata": {
  "kernelspec": {
   "display_name": "Python 3",
   "language": "python",
   "name": "python3"
  },
  "language_info": {
   "codemirror_mode": {
    "name": "ipython",
    "version": 3
   },
   "file_extension": ".py",
   "mimetype": "text/x-python",
   "name": "python",
   "nbconvert_exporter": "python",
   "pygments_lexer": "ipython3",
   "version": "3.9.13"
  }
 },
 "nbformat": 4,
 "nbformat_minor": 2
}
